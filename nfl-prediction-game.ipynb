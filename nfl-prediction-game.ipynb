{
 "cells": [
  {
   "cell_type": "code",
   "execution_count": 3,
   "metadata": {},
   "outputs": [],
   "source": [
    "import nfl_data_py as nfl\n",
    "import polars as pl\n",
    "import random\n",
    "\n",
    "class Team:\n",
    "    def __init__(self, name, elo=1500):\n",
    "        self.name = name\n",
    "        self.elo = elo\n",
    "\n",
    "class Game:\n",
    "    def __init__(self, home_team, away_team, week):\n",
    "        self.home_team = home_team\n",
    "        self.away_team = away_team\n",
    "        self.week = week\n",
    "        self.winner = None\n",
    "\n",
    "    def simulate(self):\n",
    "        # For now, just use a 50/50 chance\n",
    "        self.winner = random.choice([self.home_team, self.away_team])"
   ]
  },
  {
   "cell_type": "code",
   "execution_count": 4,
   "metadata": {},
   "outputs": [],
   "source": [
    "teams = [Team(\"Team A\"), Team(\"Team B\"), Team(\"Team C\"), Team(\"Team D\")]\n",
    "\n",
    "schedule = [\n",
    "    Game(teams[0], teams[1], 1),\n",
    "    Game(teams[2], teams[3], 1),\n",
    "    Game(teams[1], teams[2], 2),\n",
    "    Game(teams[3], teams[0], 2)\n",
    "]"
   ]
  },
  {
   "cell_type": "code",
   "execution_count": 5,
   "metadata": {},
   "outputs": [],
   "source": [
    "def simulate_season(schedule):\n",
    "    for game in schedule:\n",
    "        game.simulate()\n",
    "    return schedule\n",
    "\n",
    "simulated_season = simulate_season(schedule)"
   ]
  },
  {
   "cell_type": "code",
   "execution_count": 12,
   "metadata": {},
   "outputs": [],
   "source": [
    "def random_strategy(teams, weeks):\n",
    "    return [random.choice(teams) for _ in range(weeks)]\n",
    "\n",
    "strategy = random_strategy(teams, 2)"
   ]
  },
  {
   "cell_type": "code",
   "execution_count": 13,
   "metadata": {},
   "outputs": [
    {
     "name": "stdout",
     "output_type": "stream",
     "text": [
      "Strategy: [<__main__.Team object at 0x127338740>, <__main__.Team object at 0x127338740>], score: 25.0\n"
     ]
    }
   ],
   "source": [
    "def score_strategy(strategy, simulated_season):\n",
    "    weeks_survived = 0\n",
    "    for week, picked_team in enumerate(strategy, start=1):\n",
    "        game = next(game for game in simulated_season if game.week == week)\n",
    "        if game.winner != picked_team:\n",
    "            weeks_survived += 1\n",
    "        else:\n",
    "            break\n",
    "    return (weeks_survived / len(strategy)) ** 2 * 100\n",
    "\n",
    "score = score_strategy(strategy, simulated_season)\n",
    "print(f\"Strategy: {strategy}, score: {score}\")"
   ]
  }
 ],
 "metadata": {
  "kernelspec": {
   "display_name": ".venv",
   "language": "python",
   "name": "python3"
  },
  "language_info": {
   "codemirror_mode": {
    "name": "ipython",
    "version": 3
   },
   "file_extension": ".py",
   "mimetype": "text/x-python",
   "name": "python",
   "nbconvert_exporter": "python",
   "pygments_lexer": "ipython3",
   "version": "3.12.3"
  }
 },
 "nbformat": 4,
 "nbformat_minor": 2
}
